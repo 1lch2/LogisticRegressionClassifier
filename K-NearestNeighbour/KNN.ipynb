{
 "cells": [
  {
   "cell_type": "markdown",
   "metadata": {},
   "source": [
    "# K Nearest Neighbour Classifier"
   ]
  },
  {
   "cell_type": "markdown",
   "execution_count": null,
   "metadata": {},
   "outputs": [],
   "source": [
    "## Load the dataset."
   ]
  },
  {
   "cell_type": "code",
   "execution_count": 2,
   "metadata": {},
   "outputs": [],
   "source": [
    "import h5py\n",
    "import time\n",
    "from datetime import datetime\n",
    "import numpy as np\n",
    "import matplotlib.pyplot as plt\n",
    "\n",
    "\n",
    "# Load h5py file into numpy matrices.\n",
    "def loaddata():\n",
    "    with h5py.File('../data/train/images_training.h5', 'r') as H:\n",
    "        data_train = np.copy(H['datatrain'])\n",
    "    with h5py.File('../data/train/labels_training.h5', 'r') as H:\n",
    "        label_train = np.copy(H['labeltrain'])\n",
    "    with h5py.File('../data/test/images_testing.h5', 'r') as T:\n",
    "        data_test = np.copy(T['datatest'])\n",
    "    with h5py.File('../data/test/labels_testing_2000.h5', 'r') as T:\n",
    "        label_test = np.copy(T['labeltest'])\n",
    "\n",
    "    # Number of different classes.\n",
    "    labels = np.unique(label_train)\n",
    "    C = len(labels)\n",
    "\n",
    "    print('Dataset loaded.')\n",
    "    return data_train, label_train, data_test, label_test, C"
   ]
  },
  {
   "cell_type": "markdown",
   "execution_count": null,
   "metadata": {},
   "outputs": [],
   "source": [
    "## Calculating L2 distance for each sample."
   ]
  },
  {
   "cell_type": "code",
   "execution_count": 1,
   "metadata": {},
   "outputs": [],
   "source": [
    "# Calculate the euclidean distance for a single sample in the test dataset.\n",
    "def distance(test, train):\n",
    "    n_row = np.shape(train)[0]\n",
    "    m_row = np.shape(test)[0]\n",
    "\n",
    "    start_ = time.time()    \n",
    "    t = datetime.now()\n",
    "    print('L2 calculation start: ' + str(t.strftime(\"%Y.%m.%d %H:%M:%S\")))\n",
    "\n",
    "    # D is a (m x n) matrix.\n",
    "    # D[i, j] is the value for the distance between the number i test sample and the number j train data.\n",
    "    D = np.zeros((m_row, n_row))\n",
    "    for i, r_s in zip(range(m_row), test):\n",
    "        for j, r_t in zip(range(n_row), train):\n",
    "            D[i, j] = np.linalg.norm(r_s - r_t)\n",
    "    \n",
    "    end_ = time.time()\n",
    "    print('L2 distance calculation completed.')\n",
    "    print('Time: ' + str(round(end_ - start_)) + ' s.')\n",
    "    return D"
   ]
  },
  {
   "cell_type": "markdown",
   "metadata": {},
   "source": [
    "## Quick sort method (recursive)."
   ]
  },
  {
   "cell_type": "code",
   "execution_count": null,
   "metadata": {},
   "outputs": [],
   "source": [
    "# Quick sort.\n",
    "# No return for this recursive method, sort operation will apply to its parameters.\n",
    "def quicksort(seq, label, low, high):\n",
    "    i = low\n",
    "    j = high\n",
    "\n",
    "    if low < high:\n",
    "        base = seq[low]\n",
    "        base_l = label[low]\n",
    "        while i < j:\n",
    "            while seq[j] > base and j > i:\n",
    "                j -= 1\n",
    "            if j > i:\n",
    "                seq[i] = seq[j]\n",
    "                label[i] = label[j]\n",
    "                i += 1\n",
    "            \n",
    "            while seq[i] < base and i < j:\n",
    "                i += 1\n",
    "            if i < j:\n",
    "                seq[j] = seq[i]\n",
    "                label[j] = label[i]\n",
    "                j -= 1\n",
    "            \n",
    "        seq[i] = base\n",
    "        label[i] = base_l\n",
    "\n",
    "        quicksort(seq, label, low, i-1)\n",
    "        quicksort(seq, label, i+1, high)"
   ]
  },
  {
   "cell_type": "markdown",
   "metadata": {},
   "source": [
    "## Unused bubble sort method."
   ]
  },
  {
   "cell_type": "code",
   "execution_count": 1,
   "metadata": {},
   "outputs": [],
   "source": [
    "# Sort the points by distance.\n",
    "# Bubble sort algorithm.\n",
    "# Time cost too high to use.\n",
    "def bubblesort(seq, label):\n",
    "    flag = True\n",
    "    r_seq = seq.copy()\n",
    "    r_label = label.copy()\n",
    "\n",
    "    while flag:\n",
    "        flag = False\n",
    "        i = 0\n",
    "        while i < len(r_seq) - 1:\n",
    "            temp = r_seq[i]\n",
    "            temp_l = r_label[i]\n",
    "            if r_seq[i] > r_seq[i+1]:\n",
    "                r_seq[i] = r_seq[i+1]\n",
    "                r_label[i] = r_label[i+1]\n",
    "                # FIXME: index out of bound?\n",
    "\n",
    "                r_seq[i+1] = temp\n",
    "                r_label[i+1] = temp_l\n",
    "\n",
    "                flag = True\n",
    "            i += 1\n",
    "\n",
    "    # Merge two list into a list of tuples.\n",
    "    return list(zip(r_seq, r_label))"
   ]
  },
  {
   "cell_type": "markdown",
   "execution_count": null,
   "metadata": {},
   "outputs": [],
   "source": [
    "## Make prediction by counting the vote."
   ]
  },
  {
   "cell_type": "code",
   "execution_count": 3,
   "metadata": {},
   "outputs": [],
   "source": [
    "# Get the first K nearest neighbours and count the vote.\n",
    "def vote_count(k, sorted_list, C):\n",
    "    vote_counter = np.zeros(C)\n",
    "    i = 0\n",
    "    while i < k:\n",
    "        index = sorted_list[i][1]\n",
    "        vote_counter[index] += 1\n",
    "        i += 1\n",
    "    return np.argmax(vote_counter)\n",
    "\n",
    "\n",
    "# Make predictions.\n",
    "def predict(distance, label, k, c):\n",
    "    y_pred = np.zeros(np.shape(distance)[0])\n",
    "\n",
    "    t = datetime.now()\n",
    "    print('Counting vote: ' + str(t.strftime(\"%Y.%m.%d %H:%M:%S\")))\n",
    "\n",
    "    # Traverse each row in the distance matrix.\n",
    "    i = 0\n",
    "    for single in distance:\n",
    "        row = single.copy()\n",
    "        label_r = label.copy()\n",
    "        quicksort(row, label_r, 0, len(row)-1)\n",
    "        sorted_list = list(zip(row, label_r))\n",
    "        y_pred[i] = vote_count(k, sorted_list, c)\n",
    "        i += 1\n",
    "    return y_pred\n",
    "\n",
    "\n",
    "# Calculate the accuracy.\n",
    "def accuracy(y_pred, y_true):\n",
    "    out = sum(y_pred == y_true for y_pred, y_true in zip(y_pred, y_true)) \n",
    "    return out / len(y_pred)\n"
   ]
  },
  {
   "cell_type": "markdown",
   "execution_count": null,
   "metadata": {},
   "outputs": [],
   "source": [
    "## Main part."
   ]
  },
  {
   "cell_type": "code",
   "execution_count": 4,
   "metadata": {},
   "outputs": [],
   "source": [
    "# Classifier runs from here.\n",
    "def main(k=3):\n",
    "    t = datetime.now()\n",
    "    print('Training start: ' + str(t.strftime(\"%Y.%m.%d %H:%M:%S\")))\n",
    "\n",
    "    data_train, label_train, data_test, label_test, C = loaddata()\n",
    "    \n",
    "    time_start = time.time()\n",
    "    D = distance(data_test[:2000], data_train)\n",
    "    label_predict = predict(D, label_train, k, C)\n",
    "    time_end = time.time()\n",
    "\n",
    "    acc = accuracy(label_predict, label_test[:2000])\n",
    "    print(\"Accuracy of model on test set: {:.2%}\".format(acc))\n",
    "    print(\"Time: {:.3f} s.\".format(time_end - time_start))\n",
    "\n",
    "    # Export the prediction into h5py file.\n",
    "    h5file = h5py.File('./predicted_labels.h5', 'w')\n",
    "    h5file.create_dataset('output', data=label_predict)\n"
   ]
  },
  {
   "cell_type": "markdown",
   "execution_count": null,
   "metadata": {},
   "outputs": [],
   "source": [
    "## Tuning parameter."
   ]
  },
  {
   "cell_type": "code",
   "execution_count": 5,
   "metadata": {},
   "outputs": [],
   "source": [
    "# Tuning parameter K and draw a plot.\n",
    "def tuning():\n",
    "    k_list = range(10)\n",
    "    acc_list = []\n",
    "    for _k in k_list:\n",
    "        data_train, label_train, data_test, label_test, C = loaddata()\n",
    "        print('Tuning for K = ' + str(_k))\n",
    "        D = distance(data_test, data_train)\n",
    "        label_predict = predict(D, label_train, _k, C)\n",
    "        acc = accuracy(label_predict, label_test[:2000])\n",
    "        acc_list.append(acc)\n",
    "\n",
    "    # Draw the line chart of K and accuracy.\n",
    "    plt.plot(k_list, acc_list)\n",
    "    plt.xlabel('K', fontsize=12)\n",
    "    plt.ylabel('Accuracy', fontsize=12)\n",
    "    plt.tick_params(axis='both', which='major', labelsize=12)\n",
    "    plt.show()"
   ]
  },
  {
   "cell_type": "markdown",
   "execution_count": null,
   "metadata": {},
   "outputs": [],
   "source": [
    "## Run the classifier."
   ]
  },
  {
   "cell_type": "code",
   "execution_count": null,
   "metadata": {},
   "outputs": [],
   "source": [
    "main()"
   ]
  }
 ],
 "metadata": {
  "kernelspec": {
   "display_name": "Python 3",
   "language": "python",
   "name": "python3"
  },
  "language_info": {
   "codemirror_mode": {
    "name": "ipython",
    "version": 3
   },
   "file_extension": ".py",
   "mimetype": "text/x-python",
   "name": "python",
   "nbconvert_exporter": "python",
   "pygments_lexer": "ipython3",
   "version": "3.7.3-final"
  }
 },
 "nbformat": 4,
 "nbformat_minor": 4
}