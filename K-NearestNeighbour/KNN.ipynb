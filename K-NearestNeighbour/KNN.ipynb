{
 "cells": [
  {
   "cell_type": "markdown",
   "metadata": {},
   "source": [
    "# K Nearest Neighbour Classifier"
   ]
  },
  {
   "cell_type": "markdown",
   "metadata": {},
   "source": [
    "## Quick sort method (recursive)."
   ]
  },
  {
   "cell_type": "code",
   "execution_count": null,
   "metadata": {},
   "outputs": [],
   "source": [
    "# Quick sort.\n",
    "# No return for this recursive method, sort operation will apply to its parameters.\n",
    "def quicksort(seq, label, low, high):\n",
    "    i = low\n",
    "    j = high\n",
    "\n",
    "    if low < high:\n",
    "        base = seq[low]\n",
    "        base_l = label[low]\n",
    "        while i < j:\n",
    "            while seq[j] > base and j > i:\n",
    "                j -= 1\n",
    "            if j > i:\n",
    "                seq[i] = seq[j]\n",
    "                label[i] = label[j]\n",
    "                i += 1\n",
    "            \n",
    "            while seq[i] < base and i < j:\n",
    "                i += 1\n",
    "            if i < j:\n",
    "                seq[j] = seq[i]\n",
    "                label[j] = label[i]\n",
    "                j -= 1\n",
    "            \n",
    "        seq[i] = base\n",
    "        label[i] = base_l\n",
    "\n",
    "        quicksort(seq, label, low, i-1)\n",
    "        quicksort(seq, label, i+1, high)"
   ]
  },
  {
   "cell_type": "markdown",
   "metadata": {},
   "source": [
    "## Unused bubble sort method."
   ]
  },
  {
   "cell_type": "code",
   "execution_count": 1,
   "metadata": {},
   "outputs": [],
   "source": [
    "# Sort the points by distance.\n",
    "# Bubble sort algorithm.\n",
    "# Time cost too high to use.\n",
    "def bubblesort(seq, label):\n",
    "    flag = True\n",
    "    r_seq = seq.copy()\n",
    "    r_label = label.copy()\n",
    "\n",
    "    while flag:\n",
    "        flag = False\n",
    "        i = 0\n",
    "        while i < len(r_seq) - 1:\n",
    "            temp = r_seq[i]\n",
    "            temp_l = r_label[i]\n",
    "            if r_seq[i] > r_seq[i+1]:\n",
    "                r_seq[i] = r_seq[i+1]\n",
    "                r_label[i] = r_label[i+1]\n",
    "                # FIXME: index out of bound?\n",
    "\n",
    "                r_seq[i+1] = temp\n",
    "                r_label[i+1] = temp_l\n",
    "\n",
    "                flag = True\n",
    "            i += 1\n",
    "\n",
    "    # Merge two list into a list of tuples.\n",
    "    return list(zip(r_seq, r_label))"
   ]
  }
 ],
 "metadata": {
  "kernelspec": {
   "display_name": "Python 3",
   "language": "python",
   "name": "python3"
  },
  "language_info": {
   "codemirror_mode": {
    "name": "ipython",
    "version": 3
   },
   "file_extension": ".py",
   "mimetype": "text/x-python",
   "name": "python",
   "nbconvert_exporter": "python",
   "pygments_lexer": "ipython3",
   "version": "3.7.3"
  }
 },
 "nbformat": 4,
 "nbformat_minor": 4
}
